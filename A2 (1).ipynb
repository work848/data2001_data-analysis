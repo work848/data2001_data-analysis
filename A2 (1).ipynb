{
 "cells": [
  {
   "cell_type": "code",
   "execution_count": 120,
   "id": "e34ca651",
   "metadata": {},
   "outputs": [],
   "source": [
    "#student name: gatsby yang\n",
    "# import pandas library using alias pd\n",
    "import pandas as pd\n",
    "#pd.set_option('precision', 2)\n",
    "\n",
    "# load the data\n",
    "review_information = pd.read_csv(filepath_or_buffer='dataset.csv')"
   ]
  },
  {
   "cell_type": "code",
   "execution_count": 121,
   "id": "3dda9983",
   "metadata": {},
   "outputs": [
    {
     "data": {
      "text/html": [
       "<div>\n",
       "<style scoped>\n",
       "    .dataframe tbody tr th:only-of-type {\n",
       "        vertical-align: middle;\n",
       "    }\n",
       "\n",
       "    .dataframe tbody tr th {\n",
       "        vertical-align: top;\n",
       "    }\n",
       "\n",
       "    .dataframe thead th {\n",
       "        text-align: right;\n",
       "    }\n",
       "</style>\n",
       "<table border=\"1\" class=\"dataframe\">\n",
       "  <thead>\n",
       "    <tr style=\"text-align: right;\">\n",
       "      <th></th>\n",
       "      <th>Id</th>\n",
       "      <th>ProductId</th>\n",
       "      <th>UserId</th>\n",
       "      <th>ProfileName</th>\n",
       "      <th>HelpfulnessNumerator</th>\n",
       "      <th>HelpfulnessDenominator</th>\n",
       "      <th>Score</th>\n",
       "      <th>Time</th>\n",
       "      <th>Summary</th>\n",
       "      <th>Text</th>\n",
       "      <th>Label</th>\n",
       "    </tr>\n",
       "  </thead>\n",
       "  <tbody>\n",
       "    <tr>\n",
       "      <th>0</th>\n",
       "      <td>2</td>\n",
       "      <td>B00813GRG4</td>\n",
       "      <td>A1D87F6ZCVE5NK</td>\n",
       "      <td>dll pa</td>\n",
       "      <td>0</td>\n",
       "      <td>0</td>\n",
       "      <td>1</td>\n",
       "      <td>1346976000</td>\n",
       "      <td>Not as Advertised</td>\n",
       "      <td>Product arrived labeled as Jumbo Salted Peanut...</td>\n",
       "      <td>NaN</td>\n",
       "    </tr>\n",
       "    <tr>\n",
       "      <th>1</th>\n",
       "      <td>5</td>\n",
       "      <td>B006K2ZZ7K</td>\n",
       "      <td>A1UQRSCLF8GW1T</td>\n",
       "      <td>Michael D. Bigham \"M. Wassir\"</td>\n",
       "      <td>0</td>\n",
       "      <td>0</td>\n",
       "      <td>5</td>\n",
       "      <td>1350777600</td>\n",
       "      <td>Great taffy</td>\n",
       "      <td>Great taffy at a great price.  There was a wid...</td>\n",
       "      <td>NaN</td>\n",
       "    </tr>\n",
       "    <tr>\n",
       "      <th>2</th>\n",
       "      <td>10</td>\n",
       "      <td>B00171APVA</td>\n",
       "      <td>A21BT40VZCCYT4</td>\n",
       "      <td>Carol A. Reed</td>\n",
       "      <td>0</td>\n",
       "      <td>0</td>\n",
       "      <td>5</td>\n",
       "      <td>1351209600</td>\n",
       "      <td>Healthy Dog Food</td>\n",
       "      <td>This is a very healthy dog food. Good for thei...</td>\n",
       "      <td>NaN</td>\n",
       "    </tr>\n",
       "    <tr>\n",
       "      <th>3</th>\n",
       "      <td>17</td>\n",
       "      <td>B001GVISJM</td>\n",
       "      <td>A3KLWF6WQ5BNYO</td>\n",
       "      <td>Erica Neathery</td>\n",
       "      <td>0</td>\n",
       "      <td>0</td>\n",
       "      <td>2</td>\n",
       "      <td>1348099200</td>\n",
       "      <td>poor taste</td>\n",
       "      <td>I love eating them and they are good for watch...</td>\n",
       "      <td>NaN</td>\n",
       "    </tr>\n",
       "    <tr>\n",
       "      <th>4</th>\n",
       "      <td>39</td>\n",
       "      <td>B001EO5QW8</td>\n",
       "      <td>A2GHZ2UTV2B0CD</td>\n",
       "      <td>JERRY REITH</td>\n",
       "      <td>0</td>\n",
       "      <td>0</td>\n",
       "      <td>4</td>\n",
       "      <td>1350777600</td>\n",
       "      <td>GOOD WAY TO START THE DAY....</td>\n",
       "      <td>I WAS VISITING MY FRIEND NATE THE OTHER MORNIN...</td>\n",
       "      <td>NaN</td>\n",
       "    </tr>\n",
       "  </tbody>\n",
       "</table>\n",
       "</div>"
      ],
      "text/plain": [
       "   Id   ProductId          UserId                    ProfileName  \\\n",
       "0   2  B00813GRG4  A1D87F6ZCVE5NK                         dll pa   \n",
       "1   5  B006K2ZZ7K  A1UQRSCLF8GW1T  Michael D. Bigham \"M. Wassir\"   \n",
       "2  10  B00171APVA  A21BT40VZCCYT4                  Carol A. Reed   \n",
       "3  17  B001GVISJM  A3KLWF6WQ5BNYO                 Erica Neathery   \n",
       "4  39  B001EO5QW8  A2GHZ2UTV2B0CD                    JERRY REITH   \n",
       "\n",
       "   HelpfulnessNumerator  HelpfulnessDenominator  Score        Time  \\\n",
       "0                     0                       0      1  1346976000   \n",
       "1                     0                       0      5  1350777600   \n",
       "2                     0                       0      5  1351209600   \n",
       "3                     0                       0      2  1348099200   \n",
       "4                     0                       0      4  1350777600   \n",
       "\n",
       "                         Summary  \\\n",
       "0              Not as Advertised   \n",
       "1                    Great taffy   \n",
       "2               Healthy Dog Food   \n",
       "3                     poor taste   \n",
       "4  GOOD WAY TO START THE DAY....   \n",
       "\n",
       "                                                Text  Label  \n",
       "0  Product arrived labeled as Jumbo Salted Peanut...    NaN  \n",
       "1  Great taffy at a great price.  There was a wid...    NaN  \n",
       "2  This is a very healthy dog food. Good for thei...    NaN  \n",
       "3  I love eating them and they are good for watch...    NaN  \n",
       "4  I WAS VISITING MY FRIEND NATE THE OTHER MORNIN...    NaN  "
      ]
     },
     "execution_count": 121,
     "metadata": {},
     "output_type": "execute_result"
    }
   ],
   "source": [
    "review_information.head(5)"
   ]
  },
  {
   "cell_type": "code",
   "execution_count": 122,
   "id": "d942532c",
   "metadata": {
    "scrolled": true
   },
   "outputs": [],
   "source": [
    "for index, row in review_information.iterrows():\n",
    "    if (row['Score'] < 3):\n",
    "        review_information.loc[index,'Label'] = 'neg'\n",
    "    elif (row['Score'] > 3):\n",
    "        review_information.loc[index,'Label'] = 'pos'\n",
    "        \n",
    "    else:\n",
    "        review_information.drop(index, inplace=True)\n"
   ]
  },
  {
   "cell_type": "code",
   "execution_count": 123,
   "id": "3d530542",
   "metadata": {},
   "outputs": [
    {
     "data": {
      "text/html": [
       "<div>\n",
       "<style scoped>\n",
       "    .dataframe tbody tr th:only-of-type {\n",
       "        vertical-align: middle;\n",
       "    }\n",
       "\n",
       "    .dataframe tbody tr th {\n",
       "        vertical-align: top;\n",
       "    }\n",
       "\n",
       "    .dataframe thead th {\n",
       "        text-align: right;\n",
       "    }\n",
       "</style>\n",
       "<table border=\"1\" class=\"dataframe\">\n",
       "  <thead>\n",
       "    <tr style=\"text-align: right;\">\n",
       "      <th></th>\n",
       "      <th>Id</th>\n",
       "      <th>ProductId</th>\n",
       "      <th>UserId</th>\n",
       "      <th>ProfileName</th>\n",
       "      <th>HelpfulnessNumerator</th>\n",
       "      <th>HelpfulnessDenominator</th>\n",
       "      <th>Score</th>\n",
       "      <th>Time</th>\n",
       "      <th>Summary</th>\n",
       "      <th>Text</th>\n",
       "      <th>Label</th>\n",
       "    </tr>\n",
       "  </thead>\n",
       "  <tbody>\n",
       "    <tr>\n",
       "      <th>0</th>\n",
       "      <td>2</td>\n",
       "      <td>B00813GRG4</td>\n",
       "      <td>A1D87F6ZCVE5NK</td>\n",
       "      <td>dll pa</td>\n",
       "      <td>0</td>\n",
       "      <td>0</td>\n",
       "      <td>1</td>\n",
       "      <td>1346976000</td>\n",
       "      <td>Not as Advertised</td>\n",
       "      <td>Product arrived labeled as Jumbo Salted Peanut...</td>\n",
       "      <td>neg</td>\n",
       "    </tr>\n",
       "    <tr>\n",
       "      <th>1</th>\n",
       "      <td>5</td>\n",
       "      <td>B006K2ZZ7K</td>\n",
       "      <td>A1UQRSCLF8GW1T</td>\n",
       "      <td>Michael D. Bigham \"M. Wassir\"</td>\n",
       "      <td>0</td>\n",
       "      <td>0</td>\n",
       "      <td>5</td>\n",
       "      <td>1350777600</td>\n",
       "      <td>Great taffy</td>\n",
       "      <td>Great taffy at a great price.  There was a wid...</td>\n",
       "      <td>pos</td>\n",
       "    </tr>\n",
       "    <tr>\n",
       "      <th>2</th>\n",
       "      <td>10</td>\n",
       "      <td>B00171APVA</td>\n",
       "      <td>A21BT40VZCCYT4</td>\n",
       "      <td>Carol A. Reed</td>\n",
       "      <td>0</td>\n",
       "      <td>0</td>\n",
       "      <td>5</td>\n",
       "      <td>1351209600</td>\n",
       "      <td>Healthy Dog Food</td>\n",
       "      <td>This is a very healthy dog food. Good for thei...</td>\n",
       "      <td>pos</td>\n",
       "    </tr>\n",
       "    <tr>\n",
       "      <th>3</th>\n",
       "      <td>17</td>\n",
       "      <td>B001GVISJM</td>\n",
       "      <td>A3KLWF6WQ5BNYO</td>\n",
       "      <td>Erica Neathery</td>\n",
       "      <td>0</td>\n",
       "      <td>0</td>\n",
       "      <td>2</td>\n",
       "      <td>1348099200</td>\n",
       "      <td>poor taste</td>\n",
       "      <td>I love eating them and they are good for watch...</td>\n",
       "      <td>neg</td>\n",
       "    </tr>\n",
       "    <tr>\n",
       "      <th>4</th>\n",
       "      <td>39</td>\n",
       "      <td>B001EO5QW8</td>\n",
       "      <td>A2GHZ2UTV2B0CD</td>\n",
       "      <td>JERRY REITH</td>\n",
       "      <td>0</td>\n",
       "      <td>0</td>\n",
       "      <td>4</td>\n",
       "      <td>1350777600</td>\n",
       "      <td>GOOD WAY TO START THE DAY....</td>\n",
       "      <td>I WAS VISITING MY FRIEND NATE THE OTHER MORNIN...</td>\n",
       "      <td>pos</td>\n",
       "    </tr>\n",
       "  </tbody>\n",
       "</table>\n",
       "</div>"
      ],
      "text/plain": [
       "   Id   ProductId          UserId                    ProfileName  \\\n",
       "0   2  B00813GRG4  A1D87F6ZCVE5NK                         dll pa   \n",
       "1   5  B006K2ZZ7K  A1UQRSCLF8GW1T  Michael D. Bigham \"M. Wassir\"   \n",
       "2  10  B00171APVA  A21BT40VZCCYT4                  Carol A. Reed   \n",
       "3  17  B001GVISJM  A3KLWF6WQ5BNYO                 Erica Neathery   \n",
       "4  39  B001EO5QW8  A2GHZ2UTV2B0CD                    JERRY REITH   \n",
       "\n",
       "   HelpfulnessNumerator  HelpfulnessDenominator  Score        Time  \\\n",
       "0                     0                       0      1  1346976000   \n",
       "1                     0                       0      5  1350777600   \n",
       "2                     0                       0      5  1351209600   \n",
       "3                     0                       0      2  1348099200   \n",
       "4                     0                       0      4  1350777600   \n",
       "\n",
       "                         Summary  \\\n",
       "0              Not as Advertised   \n",
       "1                    Great taffy   \n",
       "2               Healthy Dog Food   \n",
       "3                     poor taste   \n",
       "4  GOOD WAY TO START THE DAY....   \n",
       "\n",
       "                                                Text Label  \n",
       "0  Product arrived labeled as Jumbo Salted Peanut...   neg  \n",
       "1  Great taffy at a great price.  There was a wid...   pos  \n",
       "2  This is a very healthy dog food. Good for thei...   pos  \n",
       "3  I love eating them and they are good for watch...   neg  \n",
       "4  I WAS VISITING MY FRIEND NATE THE OTHER MORNIN...   pos  "
      ]
     },
     "execution_count": 123,
     "metadata": {},
     "output_type": "execute_result"
    }
   ],
   "source": [
    "review_information.head(5)"
   ]
  },
  {
   "cell_type": "markdown",
   "id": "f6259c53",
   "metadata": {},
   "source": [
    "#### count positive and negative reviews"
   ]
  },
  {
   "cell_type": "code",
   "execution_count": 124,
   "id": "1e24c91b",
   "metadata": {},
   "outputs": [
    {
     "name": "stdout",
     "output_type": "stream",
     "text": [
      "positive:23228\n",
      "negative:4826\n"
     ]
    }
   ],
   "source": [
    "pos = 0\n",
    "neg = 0\n",
    "for index, row in review_information.iterrows():\n",
    "    if (row['Score'] == 3):\n",
    "        score_3+= 1\n",
    "    elif (row['Label']=='pos'):\n",
    "        pos+= 1\n",
    "    elif (row['Label']=='neg'):\n",
    "        neg+= 1\n",
    "        \n",
    "\n",
    "print ('positive:'+ str(pos))\n",
    "print ('negative:'+ str(neg))"
   ]
  },
  {
   "cell_type": "code",
   "execution_count": 125,
   "id": "19f03a1d",
   "metadata": {},
   "outputs": [
    {
     "data": {
      "text/plain": [
       "Id                        28054\n",
       "ProductId                 28054\n",
       "UserId                    28054\n",
       "ProfileName               28052\n",
       "HelpfulnessNumerator      28054\n",
       "HelpfulnessDenominator    28054\n",
       "Score                     28054\n",
       "Time                      28054\n",
       "Summary                   28054\n",
       "Text                      28054\n",
       "Label                     28054\n",
       "dtype: int64"
      ]
     },
     "execution_count": 125,
     "metadata": {},
     "output_type": "execute_result"
    }
   ],
   "source": [
    "review_information.count()"
   ]
  },
  {
   "cell_type": "markdown",
   "id": "997175f4",
   "metadata": {},
   "source": [
    "# Q2"
   ]
  },
  {
   "cell_type": "markdown",
   "id": "917f5881",
   "metadata": {},
   "source": [
    "### Checking data"
   ]
  },
  {
   "cell_type": "code",
   "execution_count": 126,
   "id": "1bb5f423",
   "metadata": {},
   "outputs": [
    {
     "data": {
      "text/plain": [
       "'Great taffy at a great price.  There was a wide assortment of yummy taffy.  Delivery was very quick.  If your a taffy lover, this is a deal.'"
      ]
     },
     "execution_count": 126,
     "metadata": {},
     "output_type": "execute_result"
    }
   ],
   "source": [
    "#check the content in cloumn\n",
    "review_information.loc[1, \"Text\"]"
   ]
  },
  {
   "cell_type": "code",
   "execution_count": 127,
   "id": "f3e8e93f",
   "metadata": {},
   "outputs": [
    {
     "data": {
      "text/plain": [
       "'This candy tasted like sugar without much rose flavor at all.<br /><br />I ended up throwing most of it out because I don\\'t like so much sugar.... I prefer strong flavors like <a href=\"http://www.amazon.com/gp/product/B001KYOENE\">Altoids Twin Pack Mints, Wintergreen 2 tins</a><br /><br />The center of the candy does have a licorice flavor because it\\'s an anise seed.  But there are better licorice candies out there like <a href=\"http://www.amazon.com/gp/product/B0029JTZLK\">Twizzlers Twists, Black  Licorice, 1-Pound Bags (Pack of 6)</a>.'"
      ]
     },
     "execution_count": 127,
     "metadata": {},
     "output_type": "execute_result"
    }
   ],
   "source": [
    "#check the content in cloumn\n",
    "review_information.loc[139, \"Text\"]"
   ]
  },
  {
   "cell_type": "markdown",
   "id": "ff98b8be",
   "metadata": {},
   "source": [
    "### Data cleaning "
   ]
  },
  {
   "cell_type": "code",
   "execution_count": 128,
   "id": "00530dc1",
   "metadata": {},
   "outputs": [],
   "source": [
    "import re\n",
    "\n",
    "# define a function to clean a tweet\n",
    "def clean_text(text):\n",
    "    \n",
    "    #remove <a href=\"\"></a>\n",
    "    text = re.sub(r\"<[^>]*>\", \" \", text)\n",
    "    \n",
    "    # remove hyper-links\n",
    "    text = re.sub(r\"http[\\S]+\", \" \", text)\n",
    "    \n",
    "    # remove numbers\n",
    "    text = re.sub(r\"[1-9]+\", \" \", text)\n",
    "\n",
    "    \n",
    "    # remove new line characters (\\n)\n",
    "    text = re.sub(r\"\\\\n\",\" \", text)\n",
    "    \n",
    "    #remove bracket \n",
    "    text = re.sub(r\"(<br \\W>)+\", \" \", text)\n",
    "\n",
    "    # remove hash-tags\n",
    "    text = re.sub(r\"@\\S+\", \" \", text)\n",
    "    \n",
    "    # remove any weired characters\n",
    "    text = re.sub(r\"[^A-Za-z*'-]+\", \" \", text)\n",
    "    \n",
    "\n",
    "    # convert tweet text to lowercase\n",
    "    text = text.lower().strip()\n",
    "    \n",
    "    return text"
   ]
  },
  {
   "cell_type": "code",
   "execution_count": 129,
   "id": "ab98635a",
   "metadata": {},
   "outputs": [],
   "source": [
    "#apply the function to clean the tweets.\n",
    "review_information[\"Text\"] = review_information[\"Text\"].apply(clean_text)"
   ]
  },
  {
   "cell_type": "code",
   "execution_count": 130,
   "id": "a736e7b9",
   "metadata": {},
   "outputs": [
    {
     "data": {
      "text/plain": [
       "\"this candy tasted like sugar without much rose flavor at all i ended up throwing most of it out because i don't like so much sugar i prefer strong flavors like altoids twin pack mints wintergreen tins the center of the candy does have a licorice flavor because it's an anise seed but there are better licorice candies out there like twizzlers twists black licorice -pound bags pack of\""
      ]
     },
     "execution_count": 130,
     "metadata": {},
     "output_type": "execute_result"
    }
   ],
   "source": [
    "#check the content in cloumn again \n",
    "review_information.loc[139, \"Text\"]"
   ]
  },
  {
   "cell_type": "markdown",
   "id": "3dbcb3d3",
   "metadata": {},
   "source": [
    "# Q3"
   ]
  },
  {
   "cell_type": "code",
   "execution_count": 131,
   "id": "b5ea3523",
   "metadata": {},
   "outputs": [
    {
     "name": "stderr",
     "output_type": "stream",
     "text": [
      "[nltk_data] Downloading package stopwords to\n",
      "[nltk_data]     /home/s4557667/nltk_data...\n",
      "[nltk_data]   Package stopwords is already up-to-date!\n"
     ]
    }
   ],
   "source": [
    "import numpy as np\n",
    "from sklearn.model_selection import train_test_split\n",
    "from sklearn.feature_extraction.text import CountVectorizer\n",
    "import nltk\n",
    "nltk.download('stopwords')\n",
    "from nltk.corpus import stopwords"
   ]
  },
  {
   "cell_type": "markdown",
   "id": "3d5a0dc8",
   "metadata": {},
   "source": [
    "#### BOW setting and Train-Test Split "
   ]
  },
  {
   "cell_type": "code",
   "execution_count": 132,
   "id": "25bf28a3",
   "metadata": {},
   "outputs": [],
   "source": [
    "# define random state to make random processes reproducible\n",
    "random_state = np.random.RandomState(0)\n",
    "\n",
    "# Define X(features) and y(target)\n",
    "X = review_information[\"Text\"]\n",
    "y = review_information[\"Label\"]\n",
    "\n",
    "# split the data into train-test split where 30% of data will be used as test set\n",
    "X_train, X_test, y_train, y_test = train_test_split(X, y, test_size=0.3, shuffle=False, random_state=random_state)\n",
    "\n",
    "# define stop words and also add custom stop words such as 'vaccine'\n",
    "stop_words = stopwords.words('english')\n",
    "stop_words.extend(['I', 'i', 'You', 'am', 'are', 'it', 'is'])"
   ]
  },
  {
   "cell_type": "code",
   "execution_count": 133,
   "id": "c94c31c6",
   "metadata": {},
   "outputs": [],
   "source": [
    "# define CountVectorizer object\n",
    "# min_df=0.01 means words that belong to only 1% of the all tweets will be excluded in the BOW\n",
    "vectorizer = CountVectorizer(stop_words=stopwords.words('english'), min_df=0.01)\n",
    "\n",
    "# fit the vectorizer object to train data\n",
    "vectorizer.fit(X_train)\n",
    "\n",
    "# get the BOW for train data\n",
    "X_train_BOW = vectorizer.transform(X_train)"
   ]
  },
  {
   "cell_type": "code",
   "execution_count": 134,
   "id": "7f38b1ab",
   "metadata": {},
   "outputs": [
    {
     "name": "stderr",
     "output_type": "stream",
     "text": [
      "/usr/local/lib/python3.9/dist-packages/sklearn/utils/deprecation.py:87: FutureWarning: Function get_feature_names is deprecated; get_feature_names is deprecated in 1.0 and will be removed in 1.2. Please use get_feature_names_out instead.\n",
      "  warnings.warn(msg, category=FutureWarning)\n"
     ]
    },
    {
     "data": {
      "text/html": [
       "<div>\n",
       "<style scoped>\n",
       "    .dataframe tbody tr th:only-of-type {\n",
       "        vertical-align: middle;\n",
       "    }\n",
       "\n",
       "    .dataframe tbody tr th {\n",
       "        vertical-align: top;\n",
       "    }\n",
       "\n",
       "    .dataframe thead th {\n",
       "        text-align: right;\n",
       "    }\n",
       "</style>\n",
       "<table border=\"1\" class=\"dataframe\">\n",
       "  <thead>\n",
       "    <tr style=\"text-align: right;\">\n",
       "      <th></th>\n",
       "      <th>0</th>\n",
       "      <th>1</th>\n",
       "      <th>2</th>\n",
       "      <th>3</th>\n",
       "      <th>4</th>\n",
       "      <th>5</th>\n",
       "      <th>6</th>\n",
       "      <th>7</th>\n",
       "      <th>8</th>\n",
       "      <th>9</th>\n",
       "      <th>...</th>\n",
       "      <th>19627</th>\n",
       "      <th>19628</th>\n",
       "      <th>19629</th>\n",
       "      <th>19630</th>\n",
       "      <th>19631</th>\n",
       "      <th>19632</th>\n",
       "      <th>19633</th>\n",
       "      <th>19634</th>\n",
       "      <th>19635</th>\n",
       "      <th>19636</th>\n",
       "    </tr>\n",
       "  </thead>\n",
       "  <tbody>\n",
       "    <tr>\n",
       "      <th>able</th>\n",
       "      <td>0</td>\n",
       "      <td>0</td>\n",
       "      <td>0</td>\n",
       "      <td>0</td>\n",
       "      <td>0</td>\n",
       "      <td>0</td>\n",
       "      <td>0</td>\n",
       "      <td>0</td>\n",
       "      <td>0</td>\n",
       "      <td>0</td>\n",
       "      <td>...</td>\n",
       "      <td>0</td>\n",
       "      <td>0</td>\n",
       "      <td>0</td>\n",
       "      <td>0</td>\n",
       "      <td>0</td>\n",
       "      <td>1</td>\n",
       "      <td>0</td>\n",
       "      <td>0</td>\n",
       "      <td>0</td>\n",
       "      <td>0</td>\n",
       "    </tr>\n",
       "    <tr>\n",
       "      <th>absolutely</th>\n",
       "      <td>0</td>\n",
       "      <td>0</td>\n",
       "      <td>0</td>\n",
       "      <td>0</td>\n",
       "      <td>0</td>\n",
       "      <td>0</td>\n",
       "      <td>0</td>\n",
       "      <td>0</td>\n",
       "      <td>0</td>\n",
       "      <td>0</td>\n",
       "      <td>...</td>\n",
       "      <td>0</td>\n",
       "      <td>0</td>\n",
       "      <td>0</td>\n",
       "      <td>0</td>\n",
       "      <td>0</td>\n",
       "      <td>0</td>\n",
       "      <td>0</td>\n",
       "      <td>0</td>\n",
       "      <td>0</td>\n",
       "      <td>0</td>\n",
       "    </tr>\n",
       "    <tr>\n",
       "      <th>actually</th>\n",
       "      <td>1</td>\n",
       "      <td>0</td>\n",
       "      <td>0</td>\n",
       "      <td>0</td>\n",
       "      <td>0</td>\n",
       "      <td>0</td>\n",
       "      <td>0</td>\n",
       "      <td>0</td>\n",
       "      <td>0</td>\n",
       "      <td>0</td>\n",
       "      <td>...</td>\n",
       "      <td>0</td>\n",
       "      <td>0</td>\n",
       "      <td>0</td>\n",
       "      <td>0</td>\n",
       "      <td>0</td>\n",
       "      <td>0</td>\n",
       "      <td>0</td>\n",
       "      <td>0</td>\n",
       "      <td>0</td>\n",
       "      <td>0</td>\n",
       "    </tr>\n",
       "    <tr>\n",
       "      <th>add</th>\n",
       "      <td>0</td>\n",
       "      <td>0</td>\n",
       "      <td>0</td>\n",
       "      <td>0</td>\n",
       "      <td>0</td>\n",
       "      <td>0</td>\n",
       "      <td>0</td>\n",
       "      <td>0</td>\n",
       "      <td>0</td>\n",
       "      <td>0</td>\n",
       "      <td>...</td>\n",
       "      <td>0</td>\n",
       "      <td>0</td>\n",
       "      <td>0</td>\n",
       "      <td>0</td>\n",
       "      <td>0</td>\n",
       "      <td>0</td>\n",
       "      <td>0</td>\n",
       "      <td>0</td>\n",
       "      <td>0</td>\n",
       "      <td>0</td>\n",
       "    </tr>\n",
       "    <tr>\n",
       "      <th>added</th>\n",
       "      <td>0</td>\n",
       "      <td>0</td>\n",
       "      <td>0</td>\n",
       "      <td>0</td>\n",
       "      <td>0</td>\n",
       "      <td>0</td>\n",
       "      <td>0</td>\n",
       "      <td>0</td>\n",
       "      <td>0</td>\n",
       "      <td>0</td>\n",
       "      <td>...</td>\n",
       "      <td>0</td>\n",
       "      <td>0</td>\n",
       "      <td>0</td>\n",
       "      <td>0</td>\n",
       "      <td>0</td>\n",
       "      <td>0</td>\n",
       "      <td>0</td>\n",
       "      <td>0</td>\n",
       "      <td>0</td>\n",
       "      <td>0</td>\n",
       "    </tr>\n",
       "  </tbody>\n",
       "</table>\n",
       "<p>5 rows × 19637 columns</p>\n",
       "</div>"
      ],
      "text/plain": [
       "            0      1      2      3      4      5      6      7      8      \\\n",
       "able            0      0      0      0      0      0      0      0      0   \n",
       "absolutely      0      0      0      0      0      0      0      0      0   \n",
       "actually        1      0      0      0      0      0      0      0      0   \n",
       "add             0      0      0      0      0      0      0      0      0   \n",
       "added           0      0      0      0      0      0      0      0      0   \n",
       "\n",
       "            9      ...  19627  19628  19629  19630  19631  19632  19633  \\\n",
       "able            0  ...      0      0      0      0      0      1      0   \n",
       "absolutely      0  ...      0      0      0      0      0      0      0   \n",
       "actually        0  ...      0      0      0      0      0      0      0   \n",
       "add             0  ...      0      0      0      0      0      0      0   \n",
       "added           0  ...      0      0      0      0      0      0      0   \n",
       "\n",
       "            19634  19635  19636  \n",
       "able            0      0      0  \n",
       "absolutely      0      0      0  \n",
       "actually        0      0      0  \n",
       "add             0      0      0  \n",
       "added           0      0      0  \n",
       "\n",
       "[5 rows x 19637 columns]"
      ]
     },
     "execution_count": 134,
     "metadata": {},
     "output_type": "execute_result"
    }
   ],
   "source": [
    "# visualize BOW\n",
    "training_data_BOW = pd.DataFrame(data=X_train_BOW.toarray(), columns=vectorizer.get_feature_names()).T\n",
    "\n",
    "# display the last few rows of the dataframe\n",
    "training_data_BOW.head(5)"
   ]
  },
  {
   "cell_type": "markdown",
   "id": "9304f8b5",
   "metadata": {},
   "source": [
    "#### Logistic Regression Model"
   ]
  },
  {
   "cell_type": "code",
   "execution_count": 135,
   "id": "a63af400",
   "metadata": {},
   "outputs": [],
   "source": [
    "from sklearn.linear_model import LogisticRegression"
   ]
  },
  {
   "cell_type": "code",
   "execution_count": 136,
   "id": "e42b1dc5",
   "metadata": {},
   "outputs": [
    {
     "data": {
      "text/html": [
       "<style>#sk-container-id-5 {color: black;background-color: white;}#sk-container-id-5 pre{padding: 0;}#sk-container-id-5 div.sk-toggleable {background-color: white;}#sk-container-id-5 label.sk-toggleable__label {cursor: pointer;display: block;width: 100%;margin-bottom: 0;padding: 0.3em;box-sizing: border-box;text-align: center;}#sk-container-id-5 label.sk-toggleable__label-arrow:before {content: \"▸\";float: left;margin-right: 0.25em;color: #696969;}#sk-container-id-5 label.sk-toggleable__label-arrow:hover:before {color: black;}#sk-container-id-5 div.sk-estimator:hover label.sk-toggleable__label-arrow:before {color: black;}#sk-container-id-5 div.sk-toggleable__content {max-height: 0;max-width: 0;overflow: hidden;text-align: left;background-color: #f0f8ff;}#sk-container-id-5 div.sk-toggleable__content pre {margin: 0.2em;color: black;border-radius: 0.25em;background-color: #f0f8ff;}#sk-container-id-5 input.sk-toggleable__control:checked~div.sk-toggleable__content {max-height: 200px;max-width: 100%;overflow: auto;}#sk-container-id-5 input.sk-toggleable__control:checked~label.sk-toggleable__label-arrow:before {content: \"▾\";}#sk-container-id-5 div.sk-estimator input.sk-toggleable__control:checked~label.sk-toggleable__label {background-color: #d4ebff;}#sk-container-id-5 div.sk-label input.sk-toggleable__control:checked~label.sk-toggleable__label {background-color: #d4ebff;}#sk-container-id-5 input.sk-hidden--visually {border: 0;clip: rect(1px 1px 1px 1px);clip: rect(1px, 1px, 1px, 1px);height: 1px;margin: -1px;overflow: hidden;padding: 0;position: absolute;width: 1px;}#sk-container-id-5 div.sk-estimator {font-family: monospace;background-color: #f0f8ff;border: 1px dotted black;border-radius: 0.25em;box-sizing: border-box;margin-bottom: 0.5em;}#sk-container-id-5 div.sk-estimator:hover {background-color: #d4ebff;}#sk-container-id-5 div.sk-parallel-item::after {content: \"\";width: 100%;border-bottom: 1px solid gray;flex-grow: 1;}#sk-container-id-5 div.sk-label:hover label.sk-toggleable__label {background-color: #d4ebff;}#sk-container-id-5 div.sk-serial::before {content: \"\";position: absolute;border-left: 1px solid gray;box-sizing: border-box;top: 0;bottom: 0;left: 50%;z-index: 0;}#sk-container-id-5 div.sk-serial {display: flex;flex-direction: column;align-items: center;background-color: white;padding-right: 0.2em;padding-left: 0.2em;position: relative;}#sk-container-id-5 div.sk-item {position: relative;z-index: 1;}#sk-container-id-5 div.sk-parallel {display: flex;align-items: stretch;justify-content: center;background-color: white;position: relative;}#sk-container-id-5 div.sk-item::before, #sk-container-id-5 div.sk-parallel-item::before {content: \"\";position: absolute;border-left: 1px solid gray;box-sizing: border-box;top: 0;bottom: 0;left: 50%;z-index: -1;}#sk-container-id-5 div.sk-parallel-item {display: flex;flex-direction: column;z-index: 1;position: relative;background-color: white;}#sk-container-id-5 div.sk-parallel-item:first-child::after {align-self: flex-end;width: 50%;}#sk-container-id-5 div.sk-parallel-item:last-child::after {align-self: flex-start;width: 50%;}#sk-container-id-5 div.sk-parallel-item:only-child::after {width: 0;}#sk-container-id-5 div.sk-dashed-wrapped {border: 1px dashed gray;margin: 0 0.4em 0.5em 0.4em;box-sizing: border-box;padding-bottom: 0.4em;background-color: white;}#sk-container-id-5 div.sk-label label {font-family: monospace;font-weight: bold;display: inline-block;line-height: 1.2em;}#sk-container-id-5 div.sk-label-container {text-align: center;}#sk-container-id-5 div.sk-container {/* jupyter's `normalize.less` sets `[hidden] { display: none; }` but bootstrap.min.css set `[hidden] { display: none !important; }` so we also need the `!important` here to be able to override the default hidden behavior on the sphinx rendered scikit-learn.org. See: https://github.com/scikit-learn/scikit-learn/issues/21755 */display: inline-block !important;position: relative;}#sk-container-id-5 div.sk-text-repr-fallback {display: none;}</style><div id=\"sk-container-id-5\" class=\"sk-top-container\"><div class=\"sk-text-repr-fallback\"><pre>LogisticRegression(random_state=RandomState(MT19937) at 0x7FFF5ECD3940)</pre><b>In a Jupyter environment, please rerun this cell to show the HTML representation or trust the notebook. <br />On GitHub, the HTML representation is unable to render, please try loading this page with nbviewer.org.</b></div><div class=\"sk-container\" hidden><div class=\"sk-item\"><div class=\"sk-estimator sk-toggleable\"><input class=\"sk-toggleable__control sk-hidden--visually\" id=\"sk-estimator-id-5\" type=\"checkbox\" checked><label for=\"sk-estimator-id-5\" class=\"sk-toggleable__label sk-toggleable__label-arrow\">LogisticRegression</label><div class=\"sk-toggleable__content\"><pre>LogisticRegression(random_state=RandomState(MT19937) at 0x7FFF5ECD3940)</pre></div></div></div></div></div>"
      ],
      "text/plain": [
       "LogisticRegression(random_state=RandomState(MT19937) at 0x7FFF5ECD3940)"
      ]
     },
     "execution_count": 136,
     "metadata": {},
     "output_type": "execute_result"
    }
   ],
   "source": [
    "# define lgositic regression model object\n",
    "log_reg = LogisticRegression(random_state=random_state)\n",
    "\n",
    "# fit the model to training data\n",
    "log_reg.fit(X_train_BOW, y_train)"
   ]
  },
  {
   "cell_type": "markdown",
   "id": "79bfa2bc",
   "metadata": {},
   "source": [
    "#### predicte test data"
   ]
  },
  {
   "cell_type": "code",
   "execution_count": 137,
   "id": "769f47cb",
   "metadata": {},
   "outputs": [
    {
     "data": {
      "text/plain": [
       "array(['pos', 'pos', 'pos', 'neg', 'pos', 'pos', 'pos', 'pos', 'pos',\n",
       "       'neg', 'neg', 'neg', 'pos', 'pos', 'pos', 'pos', 'neg', 'pos',\n",
       "       'neg', 'pos'], dtype=object)"
      ]
     },
     "execution_count": 137,
     "metadata": {},
     "output_type": "execute_result"
    }
   ],
   "source": [
    "# make prediction on test data\n",
    "\n",
    "# create BOW for test data\n",
    "X_test_BOW = vectorizer.transform(X_test)\n",
    "\n",
    "# predict using log_reg object\n",
    "y_test_log_reg_predictions = log_reg.predict(X_test_BOW)\n",
    "\n",
    "# view the part of predictions\n",
    "y_test_log_reg_predictions[40:60]"
   ]
  },
  {
   "cell_type": "markdown",
   "id": "6eb6a281",
   "metadata": {},
   "source": [
    "# Q4"
   ]
  },
  {
   "cell_type": "markdown",
   "id": "fbaa9e63",
   "metadata": {},
   "source": [
    "#### Building Baseline Model"
   ]
  },
  {
   "cell_type": "code",
   "execution_count": 138,
   "id": "fd5d7dd1",
   "metadata": {},
   "outputs": [
    {
     "data": {
      "text/plain": [
       "pos    16286\n",
       "neg     3351\n",
       "Name: Label, dtype: int64"
      ]
     },
     "execution_count": 138,
     "metadata": {},
     "output_type": "execute_result"
    }
   ],
   "source": [
    "# identify most frequently occurring sentiment in the train data\n",
    "y_train.value_counts()"
   ]
  },
  {
   "cell_type": "code",
   "execution_count": 139,
   "id": "73dc3e9b",
   "metadata": {},
   "outputs": [],
   "source": [
    "# assign 'Pos' to test data\n",
    "y_test_baseline_predictions = pd.Series(['pos']*len(y_test))"
   ]
  },
  {
   "cell_type": "markdown",
   "id": "470a61c8",
   "metadata": {},
   "source": [
    "#### Accuracy"
   ]
  },
  {
   "cell_type": "code",
   "execution_count": 140,
   "id": "b92abbae",
   "metadata": {},
   "outputs": [
    {
     "data": {
      "text/plain": [
       "0.8247594154686944"
      ]
     },
     "execution_count": 140,
     "metadata": {},
     "output_type": "execute_result"
    }
   ],
   "source": [
    "from sklearn.metrics import accuracy_score\n",
    "# baseline model accuracy \n",
    "acurracy_baseline = accuracy_score(y_test, y_test_baseline_predictions)\n",
    "acurracy_baseline"
   ]
  },
  {
   "cell_type": "code",
   "execution_count": 141,
   "id": "5479a4de",
   "metadata": {},
   "outputs": [
    {
     "data": {
      "text/plain": [
       "0.8786978733515505"
      ]
     },
     "execution_count": 141,
     "metadata": {},
     "output_type": "execute_result"
    }
   ],
   "source": [
    "from sklearn.metrics import accuracy_score\n",
    "# logistic regression model accuracy \n",
    "accuracy_logistic_regression = accuracy_score(y_test, y_test_log_reg_predictions)\n",
    "accuracy_logistic_regression"
   ]
  },
  {
   "cell_type": "markdown",
   "id": "ca173298",
   "metadata": {},
   "source": [
    "#### Confusion matrix"
   ]
  },
  {
   "cell_type": "code",
   "execution_count": 142,
   "id": "7ad25341",
   "metadata": {},
   "outputs": [],
   "source": [
    "from sklearn.metrics import ConfusionMatrixDisplay, confusion_matrix"
   ]
  },
  {
   "cell_type": "markdown",
   "id": "9b9b19ac",
   "metadata": {},
   "source": [
    "##### confusion matrix for logistic regression models"
   ]
  },
  {
   "cell_type": "code",
   "execution_count": 143,
   "id": "336f18d1",
   "metadata": {},
   "outputs": [
    {
     "data": {
      "image/png": "[encoded data removed]",
      "text/plain": [
       "<Figure size 432x288 with 2 Axes>"
      ]
     },
     "metadata": {
      "needs_background": "light"
     },
     "output_type": "display_data"
    }
   ],
   "source": [
    "cm = confusion_matrix(y_test, y_test_log_reg_predictions)\n",
    "display = ConfusionMatrixDisplay(confusion_matrix=cm, display_labels=log_reg.classes_)\n",
    "display.plot();"
   ]
  },
  {
   "cell_type": "markdown",
   "id": "f86cc3ab",
   "metadata": {},
   "source": [
    "Let's interpret the confusion matrix and derieve some useful metrics. Here,\n",
    "* Model correctly identified 772 negative sentiment tweets as negative. (True Negative - TN)\n",
    "* Model correctly identified 6624 positive sentiment tweets as positive. (True Positive - TP)\n",
    "* Model incorrectly identified 318 positive sentiment tweets as negative. (False Negative - FN)\n",
    "* Model incorrectly identified 703 negative sentiment tweets as positive. (False Positive - FP)"
   ]
  },
  {
   "cell_type": "markdown",
   "id": "2588e035",
   "metadata": {},
   "source": [
    "##### confusion matrix for  baseline model"
   ]
  },
  {
   "cell_type": "code",
   "execution_count": 144,
   "id": "e97a7787",
   "metadata": {
    "scrolled": true
   },
   "outputs": [
    {
     "data": {
      "image/png": "[encoded data removed]",
      "text/plain": [
       "<Figure size 432x288 with 2 Axes>"
      ]
     },
     "metadata": {
      "needs_background": "light"
     },
     "output_type": "display_data"
    }
   ],
   "source": [
    "cm = confusion_matrix(y_test, y_test_baseline_predictions)\n",
    "display = ConfusionMatrixDisplay(confusion_matrix=cm, display_labels=log_reg.classes_)\n",
    "display.plot();"
   ]
  },
  {
   "cell_type": "markdown",
   "id": "72d11d71",
   "metadata": {},
   "source": [
    "Let's interpret the confusion matrix and derieve some useful metrics. Here,\n",
    "* baseline model correctly identified 0 negative sentiment tweets as negative. (True Negative - TN)\n",
    "* baseline model correctly identified 6942 positive sentiment tweets as positive. (True Positive - TP)\n",
    "* baseline model incorrectly identified 0 positive sentiment tweets as negative. (False Negative - FN)\n",
    "* baseline model incorrectly identified 1475 negative sentiment tweets as positive. (False Positive - FP)"
   ]
  },
  {
   "cell_type": "markdown",
   "id": "29d84bb8",
   "metadata": {},
   "source": [
    "#### precision （Precision = TN/(TN+FN)）"
   ]
  },
  {
   "cell_type": "code",
   "execution_count": 145,
   "id": "49386cfd",
   "metadata": {},
   "outputs": [
    {
     "data": {
      "text/plain": [
       "0"
      ]
     },
     "execution_count": 145,
     "metadata": {},
     "output_type": "execute_result"
    }
   ],
   "source": [
    "#baseline model for negative class \n",
    "precision_baseline = 0\n",
    "precision_baseline"
   ]
  },
  {
   "cell_type": "code",
   "execution_count": 146,
   "id": "67749f2a",
   "metadata": {},
   "outputs": [
    {
     "data": {
      "text/plain": [
       "0.708256880733945"
      ]
     },
     "execution_count": 146,
     "metadata": {},
     "output_type": "execute_result"
    }
   ],
   "source": [
    "# logistic regression model for negative class\n",
    "precision_logistic_regression = 772/(772+318)\n",
    "precision_logistic_regression"
   ]
  },
  {
   "cell_type": "markdown",
   "id": "621e44ba",
   "metadata": {},
   "source": [
    "#### recall （recall = TN/(TN+FP)）"
   ]
  },
  {
   "cell_type": "code",
   "execution_count": 147,
   "id": "a198e2a7",
   "metadata": {},
   "outputs": [
    {
     "data": {
      "text/plain": [
       "0.0"
      ]
     },
     "execution_count": 147,
     "metadata": {},
     "output_type": "execute_result"
    }
   ],
   "source": [
    "#baseline model for negative class \n",
    "recall_baseline = 0/(0+6942)\n",
    "recall_baseline"
   ]
  },
  {
   "cell_type": "code",
   "execution_count": 148,
   "id": "ffc60bbd",
   "metadata": {},
   "outputs": [
    {
     "data": {
      "text/plain": [
       "0.5233898305084745"
      ]
     },
     "execution_count": 148,
     "metadata": {},
     "output_type": "execute_result"
    }
   ],
   "source": [
    "# logistic regression model for negative class\n",
    "recall_logistic_regression = 772/(772+703)\n",
    "recall_logistic_regression"
   ]
  },
  {
   "cell_type": "markdown",
   "id": "94db4463",
   "metadata": {},
   "source": [
    "#### F1-score"
   ]
  },
  {
   "cell_type": "code",
   "execution_count": 149,
   "id": "7e584369",
   "metadata": {},
   "outputs": [
    {
     "data": {
      "text/plain": [
       "0.0"
      ]
     },
     "execution_count": 149,
     "metadata": {},
     "output_type": "execute_result"
    }
   ],
   "source": [
    "from sklearn.metrics import f1_score\n",
    "# baseline model\n",
    "f1_baseline = f1_score(y_test, y_test_baseline_predictions, pos_label = 'neg')\n",
    "f1_baseline "
   ]
  },
  {
   "cell_type": "code",
   "execution_count": 150,
   "id": "7d1a4cba",
   "metadata": {},
   "outputs": [
    {
     "data": {
      "text/plain": [
       "0.6019493177387913"
      ]
     },
     "execution_count": 150,
     "metadata": {},
     "output_type": "execute_result"
    }
   ],
   "source": [
    "# logistic regression model\n",
    "f1_logistic_regression = f1_score(y_test, y_test_log_reg_predictions, pos_label = 'neg')\n",
    "f1_logistic_regression"
   ]
  },
  {
   "cell_type": "code",
   "execution_count": 151,
   "id": "4baf5035",
   "metadata": {},
   "outputs": [
    {
     "name": "stdout",
     "output_type": "stream",
     "text": [
      "Baseline: {accuracy:0.8247594154686944, precision:0, recall:0.0, f1-score:0.0} \n",
      "Logisticregression: {accuracy:0.8786978733515505, precision: 0.708256880733945, recall:0.5233898305084745, f1-score:0.6019493177387913} \n"
     ]
    }
   ],
   "source": [
    "print(\"Baseline: {accuracy:\"+str(acurracy_baseline) + \n",
    "      \", precision:\"+str(precision_baseline)+\n",
    "      \", recall:\"+str(recall_baseline)+\n",
    "      \", f1-score:\"+ str(f1_baseline)+\"} \")\n",
    "\n",
    "print(\"Logisticregression: {accuracy:\"+str(accuracy_logistic_regression) + \n",
    "      \", precision: \"+ str(precision_logistic_regression)+\n",
    "      \", recall:\"+str(recall_logistic_regression)+\n",
    "      \", f1-score:\"+ str(f1_logistic_regression)+\"} \")"
   ]
  },
  {
   "cell_type": "markdown",
   "id": "7540c75e",
   "metadata": {},
   "source": [
    "### explanation for f difference between the accuracy and the f1 score of the negative class for the baseline model.\n",
    "\n",
    "f1 score = (precision*recall) / (precision+recall) beacuse precision and recall for negative class of baseline model is 0, therefore f1 score is 0, but accuraccy calculates the number of observed values matching the measured values, divided by observed values. which means numerator will not be zero unless any measured values does match corresponding observed value. "
   ]
  },
  {
   "cell_type": "markdown",
   "id": "5bf58638",
   "metadata": {},
   "source": [
    "# Q5"
   ]
  },
  {
   "cell_type": "code",
   "execution_count": 152,
   "id": "8911eb68",
   "metadata": {},
   "outputs": [],
   "source": [
    "predictdata = pd.read_csv(\"predictdata.csv\")"
   ]
  },
  {
   "cell_type": "markdown",
   "id": "69f0133c",
   "metadata": {},
   "source": [
    "#### setting BOW"
   ]
  },
  {
   "cell_type": "code",
   "execution_count": 153,
   "id": "3b632e18",
   "metadata": {},
   "outputs": [
    {
     "data": {
      "text/plain": [
       "array(['pos', 'pos', 'pos', 'pos', 'neg'], dtype=object)"
      ]
     },
     "execution_count": 153,
     "metadata": {},
     "output_type": "execute_result"
    }
   ],
   "source": [
    "X_test = predictdata[\"Text\"]\n",
    "# create BOW for test data\n",
    "test_pre_BOW = vectorizer.transform(X_test)\n",
    "# predict using log_reg object\n",
    "y_test_log_reg_predictions = log_reg.predict(test_pre_BOW)\n",
    "y_test_log_reg_predictions"
   ]
  },
  {
   "cell_type": "code",
   "execution_count": 154,
   "id": "c8aa073f",
   "metadata": {},
   "outputs": [
    {
     "data": {
      "text/html": [
       "<div>\n",
       "<style scoped>\n",
       "    .dataframe tbody tr th:only-of-type {\n",
       "        vertical-align: middle;\n",
       "    }\n",
       "\n",
       "    .dataframe tbody tr th {\n",
       "        vertical-align: top;\n",
       "    }\n",
       "\n",
       "    .dataframe thead th {\n",
       "        text-align: right;\n",
       "    }\n",
       "</style>\n",
       "<table border=\"1\" class=\"dataframe\">\n",
       "  <thead>\n",
       "    <tr style=\"text-align: right;\">\n",
       "      <th></th>\n",
       "      <th>id</th>\n",
       "      <th>Text</th>\n",
       "      <th>Model Prediction</th>\n",
       "    </tr>\n",
       "  </thead>\n",
       "  <tbody>\n",
       "    <tr>\n",
       "      <th>0</th>\n",
       "      <td>1</td>\n",
       "      <td>The candy is tasty, but they totally scam you ...</td>\n",
       "      <td>pos</td>\n",
       "    </tr>\n",
       "    <tr>\n",
       "      <th>1</th>\n",
       "      <td>2</td>\n",
       "      <td>I had been looking for the violet candy with t...</td>\n",
       "      <td>pos</td>\n",
       "    </tr>\n",
       "    <tr>\n",
       "      <th>2</th>\n",
       "      <td>3</td>\n",
       "      <td>these are very pricey so i only enjoy them now...</td>\n",
       "      <td>pos</td>\n",
       "    </tr>\n",
       "    <tr>\n",
       "      <th>3</th>\n",
       "      <td>4</td>\n",
       "      <td>These candies have a mild flavor, when compare...</td>\n",
       "      <td>pos</td>\n",
       "    </tr>\n",
       "    <tr>\n",
       "      <th>4</th>\n",
       "      <td>5</td>\n",
       "      <td>This product is a bit pricey for the amt. rece...</td>\n",
       "      <td>neg</td>\n",
       "    </tr>\n",
       "  </tbody>\n",
       "</table>\n",
       "</div>"
      ],
      "text/plain": [
       "   id                                               Text Model Prediction\n",
       "0   1  The candy is tasty, but they totally scam you ...              pos\n",
       "1   2  I had been looking for the violet candy with t...              pos\n",
       "2   3  these are very pricey so i only enjoy them now...              pos\n",
       "3   4  These candies have a mild flavor, when compare...              pos\n",
       "4   5  This product is a bit pricey for the amt. rece...              neg"
      ]
     },
     "execution_count": 154,
     "metadata": {},
     "output_type": "execute_result"
    }
   ],
   "source": [
    "data = {'id':predictdata[\"Id\"],'Text':X_test,'Model Prediction':y_test_log_reg_predictions}\n",
    "table = pd.DataFrame(data=data)\n",
    "table"
   ]
  },
  {
   "cell_type": "markdown",
   "id": "2024c687",
   "metadata": {},
   "source": [
    "# Q6"
   ]
  },
  {
   "cell_type": "code",
   "execution_count": 155,
   "id": "4124f0f7",
   "metadata": {},
   "outputs": [],
   "source": [
    "from wordcloud import WordCloud\n",
    "from matplotlib import pyplot as plt"
   ]
  },
  {
   "cell_type": "code",
   "execution_count": 156,
   "id": "e74870fc",
   "metadata": {},
   "outputs": [
    {
     "data": {
      "image/png": "[encoded data removed]",
      "text/plain": [
       "<Figure size 432x288 with 1 Axes>"
      ]
     },
     "metadata": {
      "needs_background": "light"
     },
     "output_type": "display_data"
    }
   ],
   "source": [
    "text = \" \".join(review_information[\"Text\"])\n",
    "word_cloud = WordCloud().generate(text)\n",
    "plt.imshow(word_cloud, interpolation='bilinear');"
   ]
  },
  {
   "cell_type": "markdown",
   "id": "ef705997",
   "metadata": {},
   "source": [
    "from this wordcloud, the most frequent words appear in review in the dataset is taste, product, good, one, flavor,great, coffee, great,love and so on"
   ]
  },
  {
   "cell_type": "code",
   "execution_count": 157,
   "id": "ec5322ca",
   "metadata": {},
   "outputs": [],
   "source": [
    "# function adapted from https://aneesha.medium.com/visualising-top-features-in-linear-svm-with-scikit-learn-and-matplotlib-3454ab18a14d\n",
    "def plot_coefficients(classifier, feature_names, top_features=10):\n",
    "    coef = classifier.coef_.ravel()\n",
    "    top_positive_coefficients = np.argsort(coef)[-top_features:]\n",
    "    top_negative_coefficients = np.argsort(coef)[:top_features]\n",
    "    top_coefficients = np.hstack([top_negative_coefficients, top_positive_coefficients])\n",
    "    # create plot\n",
    "    plt.figure(figsize=(15, 5))\n",
    "    colors = ['red' if c < 0 else 'blue' for c in coef[top_coefficients]]\n",
    "    plt.bar(np.arange(2 * top_features), coef[top_coefficients], color=colors)\n",
    "    feature_names = np.array(feature_names)\n",
    "    plt.xticks(np.arange(0, 2 * top_features), feature_names[top_coefficients], rotation=90, ha='right')\n",
    "    plt.xlabel(\"Important Words\")\n",
    "    plt.ylabel(\"Model Coefficient\")\n",
    "    plt.title(\"Important words with their model coefficient\")\n",
    "    plt.show()"
   ]
  },
  {
   "cell_type": "code",
   "execution_count": 158,
   "id": "0f37cbdc",
   "metadata": {},
   "outputs": [
    {
     "name": "stderr",
     "output_type": "stream",
     "text": [
      "/usr/local/lib/python3.9/dist-packages/sklearn/utils/deprecation.py:87: FutureWarning: Function get_feature_names is deprecated; get_feature_names is deprecated in 1.0 and will be removed in 1.2. Please use get_feature_names_out instead.\n",
      "  warnings.warn(msg, category=FutureWarning)\n"
     ]
    },
    {
     "data": {
      "image/png": "[encoded data removed]",
      "text/plain": [
       "<Figure size 1080x360 with 1 Axes>"
      ]
     },
     "metadata": {
      "needs_background": "light"
     },
     "output_type": "display_data"
    }
   ],
   "source": [
    "plot_coefficients(log_reg, vectorizer.get_feature_names())"
   ]
  },
  {
   "cell_type": "markdown",
   "id": "51dff3d1",
   "metadata": {},
   "source": [
    "The plot shows 20 words which played important role in making predictions. The red bars show top 10 words with negative model coefficient and blue bars show top 10 words with positive model coefficient values. \n",
    "\n",
    "negative:waste, return, disappointed, unfortunately,, unless, excited, idea, cheap, customer, stick.\n",
    "<br>positive:loves, delicious, smoothly,highly, excellent, perfect, thanks, refreshing, awesome, fantastic."
   ]
  },
  {
   "cell_type": "markdown",
   "id": "269d8657",
   "metadata": {},
   "source": [
    "# Q7"
   ]
  },
  {
   "cell_type": "markdown",
   "id": "e33f56f2",
   "metadata": {},
   "source": [
    "issues: when model is trained by this imbalanced dataset, the model tends to be more biased towards the majority class, causing bad classification of the minority class.\n",
    "</br>solution: 1.when quantity of data is sufficient, keeping all samples in a rare class and reandomly selecting an equal number of in dataset to form a new balanced dataset.\n",
    "2. increasing the size of rare samples to balance dataset, there new samples can be generated by repetition, bootstrapping and other Technique. "
   ]
  }
 ],
 "metadata": {
  "kernelspec": {
   "display_name": "Python 3 (ipykernel)",
   "language": "python",
   "name": "python3"
  },
  "language_info": {
   "codemirror_mode": {
    "name": "ipython",
    "version": 3
   },
   "file_extension": ".py",
   "mimetype": "text/x-python",
   "name": "python",
   "nbconvert_exporter": "python",
   "pygments_lexer": "ipython3",
   "version": "3.9.13"
  }
 },
 "nbformat": 4,
 "nbformat_minor": 5
}
